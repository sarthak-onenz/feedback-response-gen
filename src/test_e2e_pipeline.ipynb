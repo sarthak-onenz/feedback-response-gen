{
 "cells": [
  {
   "cell_type": "code",
   "execution_count": 1,
   "metadata": {},
   "outputs": [],
   "source": [
    "from main import main"
   ]
  },
  {
   "cell_type": "code",
   "execution_count": 2,
   "metadata": {},
   "outputs": [
    {
     "name": "stderr",
     "output_type": "stream",
     "text": [
      "/home/sarthak/myenv/feedback-response-gen/src/utils/llm.py:80: LangChainDeprecationWarning: The class `HuggingFaceBgeEmbeddings` was deprecated in LangChain 0.2.2 and will be removed in 1.0. An updated version of the class exists in the :class:`~langchain-huggingface package and should be used instead. To use it run `pip install -U :class:`~langchain-huggingface` and import as `from :class:`~langchain_huggingface import HuggingFaceEmbeddings``.\n",
      "  model = HuggingFaceBgeEmbeddings(\n",
      "/home/sarthak/myenv/feedback-response-gen/myenv/lib/python3.10/site-packages/tqdm/auto.py:21: TqdmWarning: IProgress not found. Please update jupyter and ipywidgets. See https://ipywidgets.readthedocs.io/en/stable/user_install.html\n",
      "  from .autonotebook import tqdm as notebook_tqdm\n",
      "Number of requested results 3 is greater than number of elements in index 1, updating n_results = 1\n"
     ]
    },
    {
     "name": "stdout",
     "output_type": "stream",
     "text": [
      "Vector search results\n",
      " Topics ['inconsistent_internet_connectivity_within_home', 'broadband_plan_issues_during_upgrades', 'unexpected_internet_phone_disconnections', 'need_proactive_support_on_broadband', 'poor_reception_and_connectivity_after_rebranding', 'poor_mobile_and_wifi_coverage_in_residential_area', 'cellular_signal_issues_in_certain_areas', 'lack_of_consistency_across_communication_channels', 'staff_misusing_customer_devices', 'inconsistent_cellular_data_coverage', 'lack_of_rural_broadband_upgrades', 'difficulty_switching_telecom_providers_after_long_subscription', 'reluctance_to_upgrade_neighborhood_to_fiber', 'need_affordable_data_plans_for_additional_devices', 'difficulties_using_digital_channels_elderly_customers', 'need_for_wifi_calling_functionality'] \n",
      " Escalation topics ['my house burned down in a fire']\n",
      "Sending request to LLM\n",
      "Received response from LLM.\n",
      "llm response {\n",
      "    \"detected_topics\": [\"inconsistent_internet_connectivity_within_home\", \"poor_mobile_and_wifi_coverage_in_residential_area\"],\n",
      "    \"suggested_topics\": [\"wifi_slows_down_with_multiple_devices\", \"customer_service_not_taking_issue_seriously\"],\n",
      "    \"escalation_topics\": []\n",
      "}\n",
      "Sending request to LLM\n",
      "Received response from LLM.\n",
      "success\n",
      "Dear Valued Customer,\n",
      "\n",
      "I'm sorry to hear that you're experiencing issues with your home WiFi network when connecting multiple devices. We understand how frustrating it can be when your internet connection is not performing as expected, especially in today's world where we rely so heavily on being connected.\n",
      "\n",
      "Please know that we take all customer reported issues very seriously. Providing a reliable internet service is our top priority. When multiple devices are connected to the same WiFi network, it can sometimes lead to reduced speeds or connectivity issues if the router is not able to handle the increased bandwidth demand efficiently.\n",
      "\n",
      "Here are some steps we recommend to help improve your WiFi performance with multiple connected devices:\n",
      "\n",
      "1. Check if your router supports the latest WiFi standards (802.11ac or 802.11ax) which are designed to handle more devices and higher bandwidth demands.\n",
      "\n",
      "2. Make sure your router's firmware is updated to the latest version from the manufacturer. Firmware updates often include performance improvements.\n",
      "\n",
      "3. Try changing the wireless channel that your router broadcasts on, as some channels may experience more interference than others in your area.\n",
      "\n",
      "4. If you have a dual-band router, connect your most bandwidth-intensive devices to the 5GHz band, leaving the 2.4GHz band for older devices.\n",
      "\n",
      "5. Consider upgrading to a mesh WiFi system if you have a large home, as it can provide better coverage throughout.\n",
      "\n",
      "If these tips do not resolve the issue, please don't hesitate to contact our technical support team. They are specially trained to troubleshoot WiFi issues and will work diligently with you until a resolution is found. Your satisfaction is our top concern.\n",
      "\n",
      "Thank you for your patience and for being a valued customer. We look forward to delivering the seamless connectivity experience you deserve.\n",
      "\n",
      "Regards,\n",
      "[Your Internet Service Provider]\n"
     ]
    }
   ],
   "source": [
    "message, generated_response = main(improvement_needed=\"my wifi keeps getting messed up when i connect 2+ devices???\",\n",
    "                          reason_for_given_nps=\"your customer reps don't take this problem seriously.\")\n",
    "\n",
    "print(message)\n",
    "print(generated_response)"
   ]
  },
  {
   "cell_type": "code",
   "execution_count": 3,
   "metadata": {},
   "outputs": [
    {
     "name": "stderr",
     "output_type": "stream",
     "text": [
      "Number of requested results 3 is greater than number of elements in index 1, updating n_results = 1\n"
     ]
    },
    {
     "name": "stdout",
     "output_type": "stream",
     "text": [
      "Vector search results\n",
      " Topics ['failure_to_explain_billing_properly', 'double_billed_no_refund_received', 'unexpected_high_bills_after_plan_change', 'phone_technical_issues_leading_to_large_bill', 'unacceptable_response_time_to_customer_issues', 'need_to_pay_remaining_phone_balance', 'poor_communication_clarify_from_customer_service', 'avoid_surprise_high_bills_after_contract', 'need_simplified_billing_communications', 'lack_of_proactive_account_management_assistance', 'avoid surprise high bills after contract', 'lack_of_assistance_for_elderly_customers', 'need_proactive_account_management_assistance', 'dissatisfaction_with_overall_service_quality', 'disrespectful_unhelpful_in_store_staff', 'need_for_clearer_data_overage_policies'] \n",
      " Escalation topics ['my house burned down in a fire']\n",
      "Sending request to LLM\n",
      "Received response from LLM.\n",
      "llm response {\n",
      "    \"detected_topics\": [\"need_for_clearer_data_overage_policies\", \"unacceptable_response_time_to_customer_issues\", \"poor_communication_clarify_from_customer_service\"],\n",
      "    \"suggested_topics\": [\"inability_to_pay_due_to_emergency_situation\"],\n",
      "    \"escalation_topics\": [\"my house burned down in a fire\"]\n",
      "}\n",
      "needs_escalation\n",
      "\n"
     ]
    }
   ],
   "source": [
    "message, generated_response = main(improvement_needed=\"i cant pay my bill because my house just burnt down\",\n",
    "                          reason_for_given_nps=\"your customer reps don't take this problem seriously.\")\n",
    "\n",
    "print(message)\n",
    "print(generated_response)"
   ]
  },
  {
   "cell_type": "markdown",
   "metadata": {},
   "source": [
    "- want examples of all customer commnents for each topic\n",
    "    \n",
    "- want this analysis to be spread over difrerent time period comments\n",
    "\n",
    "- excludin some keywords that need escalation.\n",
    "\n",
    "- vector search topics\n",
    "\n",
    "- expand on all sections in framework doc\n",
    "when to clean knowledge, how to do it, practices, resources, cleaning, noie removal"
   ]
  }
 ],
 "metadata": {
  "kernelspec": {
   "display_name": "myenv",
   "language": "python",
   "name": "python3"
  },
  "language_info": {
   "codemirror_mode": {
    "name": "ipython",
    "version": 3
   },
   "file_extension": ".py",
   "mimetype": "text/x-python",
   "name": "python",
   "nbconvert_exporter": "python",
   "pygments_lexer": "ipython3",
   "version": "3.10.12"
  }
 },
 "nbformat": 4,
 "nbformat_minor": 2
}
