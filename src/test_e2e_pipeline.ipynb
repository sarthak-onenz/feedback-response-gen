{
 "cells": [
  {
   "cell_type": "code",
   "execution_count": 1,
   "metadata": {},
   "outputs": [],
   "source": [
    "from main import main"
   ]
  },
  {
   "cell_type": "code",
   "execution_count": 2,
   "metadata": {},
   "outputs": [
    {
     "name": "stderr",
     "output_type": "stream",
     "text": [
      "/home/sarthak/myenv/feedback-response-gen/src/utils/llm.py:80: LangChainDeprecationWarning: The class `HuggingFaceBgeEmbeddings` was deprecated in LangChain 0.2.2 and will be removed in 1.0. An updated version of the class exists in the :class:`~langchain-huggingface package and should be used instead. To use it run `pip install -U :class:`~langchain-huggingface` and import as `from :class:`~langchain_huggingface import HuggingFaceEmbeddings``.\n",
      "  model = HuggingFaceBgeEmbeddings(\n",
      "/home/sarthak/myenv/feedback-response-gen/myenv/lib/python3.10/site-packages/tqdm/auto.py:21: TqdmWarning: IProgress not found. Please update jupyter and ipywidgets. See https://ipywidgets.readthedocs.io/en/stable/user_install.html\n",
      "  from .autonotebook import tqdm as notebook_tqdm\n",
      "Number of requested results 3 is greater than number of elements in index 1, updating n_results = 1\n"
     ]
    },
    {
     "name": "stdout",
     "output_type": "stream",
     "text": [
      "Vector search results\n",
      " Topics ['inconsistent_internet_connectivity_within_home', 'broadband_plan_issues_during_upgrades', 'unexpected_internet_phone_disconnections', 'need_proactive_support_on_broadband', 'poor_reception_and_connectivity_after_rebranding', 'poor_mobile_and_wifi_coverage_in_residential_area', 'cellular_signal_issues_in_certain_areas', 'lack_of_consistency_across_communication_channels', 'staff_misusing_customer_devices', 'inconsistent_cellular_data_coverage', 'lack_of_rural_broadband_upgrades', 'difficulty_switching_telecom_providers_after_long_subscription', 'reluctance_to_upgrade_neighborhood_to_fiber', 'need_affordable_data_plans_for_additional_devices', 'difficulties_using_digital_channels_elderly_customers', 'need_for_wifi_calling_functionality'] \n",
      " Escalation topics ['my house burned down in a fire']\n",
      "Sending request to LLM\n",
      "Received response from LLM.\n",
      "llm response {\n",
      "    \"detected_topics\": [\"poor_mobile_and_wifi_coverage_in_residential_area\", \"lack_of_consistency_across_communication_channels\"],\n",
      "    \"suggested_topics\": [\"issues_with_multiple_device_wifi_connectivity\", \"customer_service_not_taking_issues_seriously\"],\n",
      "    \"escalation_topics\": []\n",
      "}\n",
      "failure\n",
      "Email not generated because of incomplete information.\n"
     ]
    }
   ],
   "source": [
    "status, generated_response = main(improvement_needed=\"my wifi keeps getting messed up when i connect 2+ devices???\",\n",
    "                          reason_for_given_nps=\"your customer reps don't take this problem seriously.\")\n",
    "\n",
    "print(status)\n",
    "print(generated_response)"
   ]
  },
  {
   "cell_type": "code",
   "execution_count": 3,
   "metadata": {},
   "outputs": [
    {
     "name": "stderr",
     "output_type": "stream",
     "text": [
      "Number of requested results 3 is greater than number of elements in index 1, updating n_results = 1\n"
     ]
    },
    {
     "name": "stdout",
     "output_type": "stream",
     "text": [
      "Vector search results\n",
      " Topics ['failure_to_explain_billing_properly', 'double_billed_no_refund_received', 'unexpected_high_bills_after_plan_change', 'phone_technical_issues_leading_to_large_bill', 'unacceptable_response_time_to_customer_issues', 'need_to_pay_remaining_phone_balance', 'poor_communication_clarify_from_customer_service', 'avoid_surprise_high_bills_after_contract', 'need_simplified_billing_communications', 'lack_of_proactive_account_management_assistance', 'avoid surprise high bills after contract', 'lack_of_assistance_for_elderly_customers', 'need_proactive_account_management_assistance', 'dissatisfaction_with_overall_service_quality', 'disrespectful_unhelpful_in_store_staff', 'need_for_clearer_data_overage_policies'] \n",
      " Escalation topics ['my house burned down in a fire']\n",
      "Sending request to LLM\n",
      "Received response from LLM.\n",
      "llm response {\n",
      "    \"detected_topics\": [\"need_to_pay_remaining_phone_balance\", \"unacceptable_response_time_to_customer_issues\", \"dissatisfaction_with_overall_service_quality\"],\n",
      "    \"suggested_topics\": [],\n",
      "    \"escalation_topics\": [\"my house burned down in a fire\"]\n",
      "}\n",
      "needs_escalation\n",
      "Email not generated because escalation is required.\n"
     ]
    }
   ],
   "source": [
    "status, generated_response = main(improvement_needed=\"i cant pay my bill because my house just burnt down\",\n",
    "                          reason_for_given_nps=\"your customer reps don't take this problem seriously.\")\n",
    "\n",
    "print(status)\n",
    "print(generated_response)"
   ]
  },
  {
   "cell_type": "code",
   "execution_count": null,
   "metadata": {},
   "outputs": [],
   "source": []
  },
  {
   "cell_type": "code",
   "execution_count": null,
   "metadata": {},
   "outputs": [],
   "source": []
  },
  {
   "cell_type": "code",
   "execution_count": null,
   "metadata": {},
   "outputs": [],
   "source": []
  },
  {
   "cell_type": "code",
   "execution_count": null,
   "metadata": {},
   "outputs": [],
   "source": []
  },
  {
   "cell_type": "markdown",
   "metadata": {},
   "source": [
    "DONE\n",
    "\n",
    "- want examples of all customer commnents for each topic\n",
    "\n",
    "- excludin some keywords that need escalation.\n",
    "\n",
    "- vector search topics\n",
    "\n",
    "- If a resolution isnt present for a topic, don't answer it at all.\n",
    "\n",
    "- resolutions from carly are going to be emails. while generating the final email, combine these in such a way that the tone of voice is maintained.\n",
    "\n",
    "- we only want to cover N=3 topics in a single email. any more than that, and forget about the rest of the topics. do this based on an importance score of topics given by carly.\n",
    "\n",
    "\n",
    "\n",
    "\n",
    "PENDING\n",
    "- want this analysis to be spread over difrerent time period comments\n",
    "\n",
    "- expand on all sections in framework doc\n",
    "when to clean knowledge, how to do it, practices, resources, cleaning, noie removal\n",
    "\n",
    "- Will emails be sent from feedback@customer.one.nz?\n"
   ]
  }
 ],
 "metadata": {
  "kernelspec": {
   "display_name": "myenv",
   "language": "python",
   "name": "python3"
  },
  "language_info": {
   "codemirror_mode": {
    "name": "ipython",
    "version": 3
   },
   "file_extension": ".py",
   "mimetype": "text/x-python",
   "name": "python",
   "nbconvert_exporter": "python",
   "pygments_lexer": "ipython3",
   "version": "3.10.12"
  }
 },
 "nbformat": 4,
 "nbformat_minor": 2
}
