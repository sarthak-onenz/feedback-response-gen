{
 "cells": [
  {
   "cell_type": "code",
   "execution_count": 1,
   "metadata": {},
   "outputs": [],
   "source": [
    "from main import main"
   ]
  },
  {
   "cell_type": "code",
   "execution_count": null,
   "metadata": {},
   "outputs": [],
   "source": [
    "generated_response = main(improvement_needed=\"my wifi keeps getting messed up when i connect 2+ devices???\",\n",
    "                          reason_for_given_nps=\"your customer reps don't take this problem seriously.\")\n",
    "print(generated_response)"
   ]
  },
  {
   "cell_type": "markdown",
   "metadata": {},
   "source": [
    "- want examples of all customer commnents for each topic\n",
    "    \n",
    "- want this analysis to be spread over difrerent time period comments\n",
    "\n",
    "- excludin some keywords that need escalation.\n",
    "\n",
    "- vector search topics\n",
    "\n",
    "- expand on all sections in framework doc\n",
    "when to clean knowledge, how to do it, practices, resources, cleaning, noie removal"
   ]
  },
  {
   "cell_type": "code",
   "execution_count": null,
   "metadata": {},
   "outputs": [],
   "source": [
    "\n",
    "from escalation.vectordb import create_escalation_topics_vectordb\n",
    "from utils.models import Topic, EscalationTopic\n",
    "\n",
    "escalation_topics = [\"my house burned down in a fire\"]\n",
    "escalation_topics = [EscalationTopic(statement=topic) for topic in escalation_topics]\n",
    "create_escalation_topics_vectordb(escalation_topics=escalation_topics)"
   ]
  }
 ],
 "metadata": {
  "kernelspec": {
   "display_name": "myenv",
   "language": "python",
   "name": "python3"
  },
  "language_info": {
   "codemirror_mode": {
    "name": "ipython",
    "version": 3
   },
   "file_extension": ".py",
   "mimetype": "text/x-python",
   "name": "python",
   "nbconvert_exporter": "python",
   "pygments_lexer": "ipython3",
   "version": "3.10.12"
  }
 },
 "nbformat": 4,
 "nbformat_minor": 2
}
