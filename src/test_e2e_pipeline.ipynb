{
 "cells": [
  {
   "cell_type": "code",
   "execution_count": 1,
   "metadata": {},
   "outputs": [],
   "source": [
    "from main import main"
   ]
  },
  {
   "cell_type": "code",
   "execution_count": 2,
   "metadata": {},
   "outputs": [
    {
     "name": "stderr",
     "output_type": "stream",
     "text": [
      "/home/sarthak/myenv/feedback-response-gen/src/utils/llm.py:80: LangChainDeprecationWarning: The class `HuggingFaceBgeEmbeddings` was deprecated in LangChain 0.2.2 and will be removed in 1.0. An updated version of the class exists in the :class:`~langchain-huggingface package and should be used instead. To use it run `pip install -U :class:`~langchain-huggingface` and import as `from :class:`~langchain_huggingface import HuggingFaceEmbeddings``.\n",
      "  model = HuggingFaceBgeEmbeddings(\n",
      "/home/sarthak/myenv/feedback-response-gen/myenv/lib/python3.10/site-packages/tqdm/auto.py:21: TqdmWarning: IProgress not found. Please update jupyter and ipywidgets. See https://ipywidgets.readthedocs.io/en/stable/user_install.html\n",
      "  from .autonotebook import tqdm as notebook_tqdm\n",
      "Number of requested results 16 is greater than number of elements in index 9, updating n_results = 9\n",
      "Number of requested results 3 is greater than number of elements in index 1, updating n_results = 1\n"
     ]
    },
    {
     "name": "stdout",
     "output_type": "stream",
     "text": [
      "Vector search results\n",
      " Topics ['incorrect_billing_and_payment_issues', 'network_outages_during_power_cuts', 'slow_laggy_internet_speed', 'multiple_duplicate_service_subscriptions', 'poor_rural_cellular_network_coverage', 'poor_call_quality_with_operators', 'poor_follow_up_on_complaints', 'customer_wants_cheaper_pricing_plans', 'prefers_in_person_store_experience'] \n",
      " Escalation topics ['my house burned down in a fire']\n",
      "Sending request to LLM\n",
      "Received response from LLM.\n",
      "llm response {\n",
      "    \"detected_topics\" : [\"slow_laggy_internet_speed\"],\n",
      "    \"suggested_topics\" : [\"wifi_network_issues_with_multiple_devices\", \"poor_customer_service_issue_resolution\"],\n",
      "    \"escalation_topics\" : []\n",
      "}\n",
      "Sending request to LLM\n",
      "Received response from LLM.\n",
      "success\n",
      "Dear Valued Customer,\n",
      "\n",
      "I'm sorry to hear that you're experiencing issues with your WiFi network when connecting multiple devices. I understand how frustrating it can be when the internet speed slows down or the connection becomes unreliable, especially when you need to have multiple devices online simultaneously.\n",
      "\n",
      "At [Internet Service Provider], we take all customer concerns seriously, and providing reliable internet service is our top priority. We understand that in today's digital age, a strong and stable internet connection is essential for both work and leisure activities.\n",
      "\n",
      "There could be several reasons why your WiFi network is struggling to handle multiple devices simultaneously. It could be related to the router's capabilities, interference from other wireless networks in the area, or even the placement of the router in your home or office.\n",
      "\n",
      "I would like to assure you that our customer service representatives are trained to address such issues promptly and effectively. If you feel that your concerns were not adequately addressed previously, please don't hesitate to reach out to us again. Our team will be happy to troubleshoot the problem, investigate potential causes, and provide you with personalized solutions to enhance your WiFi performance.\n",
      "\n",
      "We value your loyalty and feedback, as it helps us identify areas where we can improve our services and provide a better overall experience for our customers. Please feel free to contact us at [contact information], and we will do our best to resolve your WiFi network issues promptly.\n",
      "\n",
      "Thank you for your patience and understanding.\n",
      "\n",
      "Best regards,\n",
      "[Your Name]\n",
      "[Internet Service Provider]\n"
     ]
    }
   ],
   "source": [
    "message, generated_response = main(improvement_needed=\"my wifi keeps getting messed up when i connect 2+ devices???\",\n",
    "                          reason_for_given_nps=\"your customer reps don't take this problem seriously.\")\n",
    "\n",
    "print(message)\n",
    "print(generated_response)"
   ]
  },
  {
   "cell_type": "code",
   "execution_count": 3,
   "metadata": {},
   "outputs": [
    {
     "name": "stderr",
     "output_type": "stream",
     "text": [
      "Number of requested results 16 is greater than number of elements in index 9, updating n_results = 9\n",
      "Number of requested results 3 is greater than number of elements in index 1, updating n_results = 1\n"
     ]
    },
    {
     "name": "stdout",
     "output_type": "stream",
     "text": [
      "Vector search results\n",
      " Topics ['incorrect_billing_and_payment_issues', 'poor_follow_up_on_complaints', 'network_outages_during_power_cuts', 'customer_wants_cheaper_pricing_plans', 'poor_rural_cellular_network_coverage', 'poor_call_quality_with_operators', 'multiple_duplicate_service_subscriptions', 'slow_laggy_internet_speed', 'prefers_in_person_store_experience'] \n",
      " Escalation topics ['my house burned down in a fire']\n",
      "Sending request to LLM\n",
      "Received response from LLM.\n",
      "llm response {\n",
      "    \"detected_topics\": [\"incorrect_billing_and_payment_issues\", \"poor_follow_up_on_complaints\"],\n",
      "    \"suggested_topics\": [\"inability_to_pay_bills_due_tragedy\"],\n",
      "    \"escalation_topics\": [\"my house burned down in a fire\"]\n",
      "}\n",
      "needs_escalation\n",
      "\n"
     ]
    }
   ],
   "source": [
    "message, generated_response = main(improvement_needed=\"i cant pay my bill because my house just burnt down\",\n",
    "                          reason_for_given_nps=\"your customer reps don't take this problem seriously.\")\n",
    "\n",
    "print(message)\n",
    "print(generated_response)"
   ]
  },
  {
   "cell_type": "markdown",
   "metadata": {},
   "source": [
    "- want examples of all customer commnents for each topic\n",
    "    \n",
    "- want this analysis to be spread over difrerent time period comments\n",
    "\n",
    "- excludin some keywords that need escalation.\n",
    "\n",
    "- vector search topics\n",
    "\n",
    "- expand on all sections in framework doc\n",
    "when to clean knowledge, how to do it, practices, resources, cleaning, noie removal"
   ]
  }
 ],
 "metadata": {
  "kernelspec": {
   "display_name": "myenv",
   "language": "python",
   "name": "python3"
  },
  "language_info": {
   "codemirror_mode": {
    "name": "ipython",
    "version": 3
   },
   "file_extension": ".py",
   "mimetype": "text/x-python",
   "name": "python",
   "nbconvert_exporter": "python",
   "pygments_lexer": "ipython3",
   "version": "3.10.12"
  }
 },
 "nbformat": 4,
 "nbformat_minor": 2
}
