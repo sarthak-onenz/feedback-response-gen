{
 "cells": [
  {
   "cell_type": "code",
   "execution_count": 1,
   "metadata": {},
   "outputs": [],
   "source": [
    "# sudo nano /etc/resolv.conf\n",
    "\n",
    "# nameserver 8.8.8.8\n"
   ]
  },
  {
   "cell_type": "code",
   "execution_count": null,
   "metadata": {},
   "outputs": [],
   "source": [
    "from topic_modelling.data_extraction import extract_feedback_data_from_snowflake"
   ]
  },
  {
   "cell_type": "code",
   "execution_count": null,
   "metadata": {},
   "outputs": [],
   "source": [
    "df = extract_feedback_data_from_snowflake(limit=10000)"
   ]
  },
  {
   "cell_type": "code",
   "execution_count": null,
   "metadata": {},
   "outputs": [],
   "source": [
    "len(df)"
   ]
  },
  {
   "cell_type": "code",
   "execution_count": null,
   "metadata": {},
   "outputs": [],
   "source": [
    "for col in df.columns:\n",
    "    print(col, df[col][:20])\n",
    "    print(\"\\n\\n-------------\\n\\n\")"
   ]
  },
  {
   "cell_type": "code",
   "execution_count": 15,
   "metadata": {},
   "outputs": [],
   "source": [
    "df.to_csv(\"input_feedback_data/snowflake_data/all_useful_cols.csv\", index=False)"
   ]
  },
  {
   "cell_type": "code",
   "execution_count": null,
   "metadata": {},
   "outputs": [],
   "source": [
    "\n",
    "useful_cols_and_completed_df = df[df[\"SURVEY_STATUS_DISPLAY\"] == \"Completed\"]\n",
    "useful_cols_and_completed_df.to_csv(\"input_feedback_data/snowflake_data/useful_cols_and_completed_df.csv\") \n",
    "len(useful_cols_and_completed_df)         "
   ]
  },
  {
   "cell_type": "code",
   "execution_count": null,
   "metadata": {},
   "outputs": [],
   "source": [
    "# Calculate the number of non-empty values for each column\n",
    "non_empty_counts = useful_cols_and_completed_df.notna().sum()\n",
    "print(\"Non-empty value counts for each column:\")\n",
    "print(non_empty_counts)\n",
    "\n",
    "# Calculate the threshold\n",
    "threshold = len(useful_cols_and_completed_df) * 0.2\n",
    "columns_above_threshold = non_empty_counts[non_empty_counts > threshold].index.tolist()\n",
    "print(\"\\nColumns with more than 20% non-empty values:\")\n",
    "print(columns_above_threshold)"
   ]
  },
  {
   "cell_type": "markdown",
   "metadata": {},
   "source": [
    "Here's my interpretation of each column based on their names:\n",
    "\n",
    "NZ_USE_IMPORTANT_IMPROVEMENT_CMT – Comments on important improvements needed in service or product usage.\n",
    "\n",
    "NZ_USE_QUERY_TOPIC_ALT – Alternative topics for queries that customers have made.\n",
    "\n",
    "NZ_USE_QUERY_TOPIC_OTHER_TXT – Free-text responses where customers specify other query topics not listed in predefined options.\n",
    "\n",
    "NZ_CHANGE_IMPORTANT_IMPROVEMENT_CMT – Comments on important improvements needed after a change was made.\n",
    "\n",
    "NZ_CHANGE_OVERALL_SATISFACTION_REASON_CMT – Reasons for overall satisfaction level after a change.\n",
    "\n",
    "NZ_JOIN_GENERAL_SATISFACTION_REASON_CMT – Reasons for general satisfaction related to joining the service.\n",
    "\n",
    "NZ_JOIN_IMPORTANT_IMPROVEMENT_CMT – Comments on important improvements needed after joining the service.\n",
    "\n",
    "NZ_RELATIONSHIP_IMPORTANT_IMPROVEMENT_CMT – Comments on improvements needed in the ongoing customer relationship (likely the most common feedback area).\n",
    "\n",
    "NZ_RELATIONSHIP_NPS_REASON_CMT – Reasons for the given Net Promoter Score (NPS) in relation to the overall relationship with the company.\n",
    "\n",
    "NZ_USE_CSAT_REASON_CMT – Reasons for Customer Satisfaction (CSAT) rating related to usage."
   ]
  },
  {
   "cell_type": "code",
   "execution_count": 19,
   "metadata": {},
   "outputs": [],
   "source": [
    "feedback_df = useful_cols_and_completed_df[columns_above_threshold]"
   ]
  },
  {
   "cell_type": "code",
   "execution_count": null,
   "metadata": {},
   "outputs": [],
   "source": [
    "for i, row in feedback_df.iterrows():\n",
    "    improvement_needed = row[\"NZ_RELATIONSHIP_IMPORTANT_IMPROVEMENT_CMT\"]\n",
    "    reason_for_given_nps = row[\"NZ_RELATIONSHIP_NPS_REASON_CMT\"]\n",
    "\n",
    "    if improvement_needed:\n",
    "        print(\"IMPROVEMENT:\", improvement_needed)\n",
    "    if reason_for_given_nps:\n",
    "        print(\"NPS REASON:\", reason_for_given_nps)\n",
    "    if improvement_needed or reason_for_given_nps:\n",
    "        print(\"\\n\", \"\\n\\n-----------\\n\\n\")"
   ]
  },
  {
   "cell_type": "code",
   "execution_count": null,
   "metadata": {},
   "outputs": [],
   "source": []
  }
 ],
 "metadata": {
  "kernelspec": {
   "display_name": "myenv",
   "language": "python",
   "name": "python3"
  },
  "language_info": {
   "codemirror_mode": {
    "name": "ipython",
    "version": 3
   },
   "file_extension": ".py",
   "mimetype": "text/x-python",
   "name": "python",
   "nbconvert_exporter": "python",
   "pygments_lexer": "ipython3",
   "version": "3.10.12"
  }
 },
 "nbformat": 4,
 "nbformat_minor": 2
}
