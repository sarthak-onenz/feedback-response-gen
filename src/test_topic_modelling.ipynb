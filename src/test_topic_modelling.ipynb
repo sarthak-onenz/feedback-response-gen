{
 "cells": [
  {
   "cell_type": "code",
   "execution_count": 13,
   "metadata": {},
   "outputs": [],
   "source": [
    "import pandas as pd\n",
    "from tqdm.notebook import tqdm\n",
    "\n",
    "from utils.models import Topic\n",
    "from utils.constants import CURRENT_TOPICS, N_EXAMPLES_OF_EACH_TOPIC\n",
    "from topic_modelling.agent import extract_topics_from_user_message, format_user_message\n",
    "from topic_modelling.vectordb import create_topics_vectordb"
   ]
  },
  {
   "cell_type": "code",
   "execution_count": null,
   "metadata": {},
   "outputs": [],
   "source": [
    "useful_cols_and_completed_df = pd.read_csv(\"input_feedback_data/snowflake_data/useful_cols_and_completed_df.csv\")\n",
    "len(useful_cols_and_completed_df)"
   ]
  },
  {
   "cell_type": "code",
   "execution_count": 3,
   "metadata": {},
   "outputs": [],
   "source": [
    "current_topics_with_count = {topic : Topic(topic_name=topic,\n",
    "                                           resolution_statement=\" \",\n",
    "                                           examples = [],\n",
    "                                           count = 0\n",
    "                                           )\n",
    "                            for topic in CURRENT_TOPICS}"
   ]
  },
  {
   "cell_type": "code",
   "execution_count": null,
   "metadata": {},
   "outputs": [],
   "source": [
    "extracted_topic_data = []\n",
    "\n",
    "for i, row in useful_cols_and_completed_df.iterrows():\n",
    "    improvement_needed = row[\"NZ_RELATIONSHIP_IMPORTANT_IMPROVEMENT_CMT\"]\n",
    "    reason_for_given_nps = row[\"NZ_RELATIONSHIP_NPS_REASON_CMT\"]\n",
    "\n",
    "    user_message = format_user_message(improvement_needed=improvement_needed,\n",
    "                                       reason_for_given_nps=reason_for_given_nps)\n",
    "    if user_message:\n",
    "        print(user_message)\n",
    "\n",
    "        topics_response = extract_topics_from_user_message(topics=list(current_topics_with_count.keys()),\n",
    "                                                           user_message=user_message)\n",
    "        if topics_response:\n",
    "            for topic in topics_response[\"detected_topics\"] + topics_response[\"suggested_topics\"]:\n",
    "                if topic in current_topics_with_count:\n",
    "                    current_topics_with_count[topic].count += 1\n",
    "                    if len(current_topics_with_count[topic].examples) < N_EXAMPLES_OF_EACH_TOPIC:\n",
    "                        current_topics_with_count[topic].examples += [user_message]\n",
    "                else:\n",
    "                    current_topics_with_count[topic] = Topic(topic_name=topic,\n",
    "                                                             resolution_statement=\" \",\n",
    "                                                             count=1,\n",
    "                                                             examples=[user_message]\n",
    "                                                             )\n",
    "            #print(current_topics)\n",
    "\n",
    "            print(\"\\n\\n----------------------------------------------------------\\n\\n\")\n"
   ]
  },
  {
   "cell_type": "code",
   "execution_count": null,
   "metadata": {},
   "outputs": [],
   "source": [
    "len(useful_cols_and_completed_df), len(current_topics_with_count)"
   ]
  },
  {
   "cell_type": "code",
   "execution_count": null,
   "metadata": {},
   "outputs": [],
   "source": [
    "current_topics_with_count"
   ]
  },
  {
   "cell_type": "code",
   "execution_count": null,
   "metadata": {},
   "outputs": [],
   "source": [
    "# Extract data into rows\n",
    "rows = [{\n",
    "    \"Topic\": topic.topic_name,\n",
    "    \"Count\": topic.count,\n",
    "    \"Resolution\": topic.resolution_statement,\n",
    "    \"Examples\" : topic.examples\n",
    "} for topic in current_topics_with_count.values()]\n",
    "\n",
    "# Convert to DataFrame and sort\n",
    "df = pd.DataFrame(rows)\n",
    "df_sorted = df.sort_values(by=\"Count\", ascending=False)\n",
    "\n",
    "# Export to Excel\n",
    "excel_path = \"output_topics_data/topics_by_count.xlsx\"\n",
    "df_sorted.to_excel(excel_path, index=False)\n",
    "\n",
    "# Export to CSV\n",
    "csv_path = \"output_topics_data/topics_by_count.csv\"\n",
    "df_sorted.to_csv(csv_path, index=False)\n",
    "\n",
    "print(f\"Topics exported to: {excel_path} and {csv_path}\")"
   ]
  },
  {
   "cell_type": "code",
   "execution_count": null,
   "metadata": {},
   "outputs": [],
   "source": [
    "create_topics_vectordb(topics=current_topics_with_count)"
   ]
  },
  {
   "cell_type": "code",
   "execution_count": null,
   "metadata": {},
   "outputs": [],
   "source": []
  }
 ],
 "metadata": {
  "kernelspec": {
   "display_name": "myenv",
   "language": "python",
   "name": "python3"
  },
  "language_info": {
   "codemirror_mode": {
    "name": "ipython",
    "version": 3
   },
   "file_extension": ".py",
   "mimetype": "text/x-python",
   "name": "python",
   "nbconvert_exporter": "python",
   "pygments_lexer": "ipython3",
   "version": "3.10.12"
  }
 },
 "nbformat": 4,
 "nbformat_minor": 2
}
