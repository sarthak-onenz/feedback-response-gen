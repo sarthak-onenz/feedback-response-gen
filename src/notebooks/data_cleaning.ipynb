{
 "cells": [
  {
   "cell_type": "code",
   "execution_count": 11,
   "metadata": {},
   "outputs": [
    {
     "data": {
      "text/plain": [
       "['NZ_CHANGE_IMPORTANT_IMPROVEMENT_CMT',\n",
       " 'NZ_CHANGE_OVERALL_SATISFACTION_REASON_CMT',\n",
       " 'NZ_JOIN_GENERAL_SATISFACTION_REASON_CMT',\n",
       " 'NZ_JOIN_IMPORTANT_IMPROVEMENT_CMT',\n",
       " 'NZ_RELATIONSHIP_IMPORTANT_IMPROVEMENT_CMT',\n",
       " 'NZ_RELATIONSHIP_NPS_REASON_CMT',\n",
       " 'NZ_USE_CSAT_REASON_CMT',\n",
       " 'NZ_USE_IMPORTANT_IMPROVEMENT_CMT']"
      ]
     },
     "execution_count": 11,
     "metadata": {},
     "output_type": "execute_result"
    }
   ],
   "source": [
    "import pandas as pd\n",
    "\n",
    "col_details_df = pd.read_csv(\"NPS key score and verbatim columns(Sheet1).csv\")\n",
    "#df_filtered = col_details_df[col_details_df[\"open text fields\"].notna()]\n",
    "df_filtered = col_details_df[(col_details_df[\"Is useful\"] == 1.0) & (col_details_df[\"open text fields\"].notna())]\n",
    "[i.replace(\",\", \"\") for i in df_filtered[\"Column name\"].to_list()]"
   ]
  },
  {
   "cell_type": "code",
   "execution_count": null,
   "metadata": {},
   "outputs": [],
   "source": []
  }
 ],
 "metadata": {
  "kernelspec": {
   "display_name": "myenv",
   "language": "python",
   "name": "python3"
  },
  "language_info": {
   "codemirror_mode": {
    "name": "ipython",
    "version": 3
   },
   "file_extension": ".py",
   "mimetype": "text/x-python",
   "name": "python",
   "nbconvert_exporter": "python",
   "pygments_lexer": "ipython3",
   "version": "3.10.12"
  }
 },
 "nbformat": 4,
 "nbformat_minor": 2
}
